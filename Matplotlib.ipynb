{
 "cells": [
  {
   "cell_type": "code",
   "execution_count": null,
   "metadata": {},
   "outputs": [],
   "source": [
    "import matplotlib.pyplot as plt\n",
    "plt.plot(x,y) # line plot\n",
    "plt.show()   # shows plot\n",
    "plt.scatter(x,y)# to plot scatter plot\n",
    "plt.xscale(\"log\")  # to put x axis in log scale\n",
    "\n",
    "# Histogram\n",
    "Used to get distribution of data\n",
    "\n",
    "help(plt.hist)# to get documentation of function\n",
    "plt.hist(values,bins=20)\n",
    "plt.show()\n",
    "plt.clf()\n",
    "\n",
    "\n",
    "# Customization\n",
    "\n",
    "plt.plot(x,y)\n",
    "plt.xlabel(\"year\")\n",
    "plt.ylabel(\"population\")\n",
    "plt.title(\"world popn projection\")\n",
    "plt.yticks([0,2,4,6],[\"O\",\"2B\",\"4B\",\"6B\"]) # will label y ranges with B = billions\n",
    "plt.show()\n",
    "\n",
    "#To compare with present data\n",
    "make a list of present data and add to old data list and plot again\n",
    "\n",
    "# Scatter plot\n",
    "\n",
    "- changing size of dots: convert list into array (np.array()) and multiply by 2\n",
    "    \n",
    "- colors : creat dictionary as elements of list as key and colors as value\n",
    "\n",
    "- Changing opacity of bubble: alpha = 0.8 inside plt.scatter()\n",
    "    \n",
    "-plt.text() adds words to plot\n",
    "\n",
    "-plt.grid(True) to draw lines into plot\n",
    "\n",
    "syntax :\n",
    "    plt.scatter(x= year, y = population, s = np.array(pop) * 2, c = col, alpha = 0.8)\n",
    "    \n",
    "    alpha = opacity \n",
    "    c = color\n",
    "    s = size\n",
    "\n"
   ]
  }
 ],
 "metadata": {
  "kernelspec": {
   "display_name": "Python 3",
   "language": "python",
   "name": "python3"
  },
  "language_info": {
   "codemirror_mode": {
    "name": "ipython",
    "version": 3
   },
   "file_extension": ".py",
   "mimetype": "text/x-python",
   "name": "python",
   "nbconvert_exporter": "python",
   "pygments_lexer": "ipython3",
   "version": "3.7.3"
  }
 },
 "nbformat": 4,
 "nbformat_minor": 2
}
